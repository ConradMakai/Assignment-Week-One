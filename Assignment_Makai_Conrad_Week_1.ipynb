{
  "nbformat": 4,
  "nbformat_minor": 0,
  "metadata": {
    "colab": {
      "provenance": [],
      "authorship_tag": "ABX9TyPPCBqXeQg881/eDxD7pKfX",
      "include_colab_link": true
    },
    "kernelspec": {
      "name": "python3",
      "display_name": "Python 3"
    },
    "language_info": {
      "name": "python"
    }
  },
  "cells": [
    {
      "cell_type": "markdown",
      "metadata": {
        "id": "view-in-github",
        "colab_type": "text"
      },
      "source": [
        "<a href=\"https://colab.research.google.com/github/ConradMakai/Assignment-Week-One/blob/main/Assignment_Makai_Conrad_Week_1.ipynb\" target=\"_parent\"><img src=\"https://colab.research.google.com/assets/colab-badge.svg\" alt=\"Open In Colab\"/></a>"
      ]
    },
    {
      "cell_type": "code",
      "execution_count": 3,
      "metadata": {
        "colab": {
          "base_uri": "https://localhost:8080/"
        },
        "id": "Qp2ntjZZCLy2",
        "outputId": "e22a5bc3-9e22-4bca-c41a-24565b6cd82f"
      },
      "outputs": [
        {
          "output_type": "stream",
          "name": "stdout",
          "text": [
            "[1, 2, 3, 4, 5, 6, 7, 8, 9, 10, 11]\n",
            "[1, 2, 3, 4, 5, 7, 8, 9, 10, 11]\n"
          ]
        }
      ],
      "source": [
        "numbers = [1, 2, 3, 4, 5, 6, 7, 8, 9, 10]\n",
        "numbers.append(11)\n",
        "print(numbers)\n",
        "\n",
        "numbers.remove(6)\n",
        "print(numbers)\n",
        "\n",
        "#I initially tried adding a new number, 11 with the append fucntion and\n",
        "#I removed 6 then printed the new list"
      ]
    },
    {
      "cell_type": "code",
      "source": [
        "#Tuple of 5 City Names\n",
        "cities = ('Mbarara', 'Kampala', 'Gulu', 'Mbale', 'Arua')\n",
        "cities[3] = 'FortPortal'\n",
        "\n",
        "#Tuples are not mutable, can't be adjusted or changed with new information.\n",
        "#Therefore the error code must happen"
      ],
      "metadata": {
        "colab": {
          "base_uri": "https://localhost:8080/",
          "height": 176
        },
        "id": "lVdxdFxuFRWL",
        "outputId": "2cafe1db-1fc4-40d2-a949-cbb5c439b986"
      },
      "execution_count": 4,
      "outputs": [
        {
          "output_type": "error",
          "ename": "TypeError",
          "evalue": "'tuple' object does not support item assignment",
          "traceback": [
            "\u001b[0;31m---------------------------------------------------------------------------\u001b[0m",
            "\u001b[0;31mTypeError\u001b[0m                                 Traceback (most recent call last)",
            "\u001b[0;32m<ipython-input-4-a24e314fc807>\u001b[0m in \u001b[0;36m<cell line: 0>\u001b[0;34m()\u001b[0m\n\u001b[1;32m      1\u001b[0m \u001b[0;31m#Tuple of 5 City Names\u001b[0m\u001b[0;34m\u001b[0m\u001b[0;34m\u001b[0m\u001b[0m\n\u001b[1;32m      2\u001b[0m \u001b[0mcities\u001b[0m \u001b[0;34m=\u001b[0m \u001b[0;34m(\u001b[0m\u001b[0;34m'Mbarara'\u001b[0m\u001b[0;34m,\u001b[0m \u001b[0;34m'Kampala'\u001b[0m\u001b[0;34m,\u001b[0m \u001b[0;34m'Gulu'\u001b[0m\u001b[0;34m,\u001b[0m \u001b[0;34m'Mbale'\u001b[0m\u001b[0;34m,\u001b[0m \u001b[0;34m'Arua'\u001b[0m\u001b[0;34m)\u001b[0m\u001b[0;34m\u001b[0m\u001b[0;34m\u001b[0m\u001b[0m\n\u001b[0;32m----> 3\u001b[0;31m \u001b[0mcities\u001b[0m\u001b[0;34m[\u001b[0m\u001b[0;36m3\u001b[0m\u001b[0;34m]\u001b[0m \u001b[0;34m=\u001b[0m \u001b[0;34m'FortPortal'\u001b[0m\u001b[0;34m\u001b[0m\u001b[0;34m\u001b[0m\u001b[0m\n\u001b[0m",
            "\u001b[0;31mTypeError\u001b[0m: 'tuple' object does not support item assignment"
          ]
        }
      ]
    },
    {
      "cell_type": "code",
      "source": [
        "#Set of Student names\n",
        "students = {\"Makai\", \"Collins\", \"Conrad\", \"Roy\", \"Gerald\", \"Sherina\"}\n",
        "students.add('Collins')\n",
        "print(students)"
      ],
      "metadata": {
        "colab": {
          "base_uri": "https://localhost:8080/"
        },
        "id": "1SdST6CHHSmR",
        "outputId": "18a8c82a-f078-40e3-e1a0-83be962cbbc9"
      },
      "execution_count": 6,
      "outputs": [
        {
          "output_type": "stream",
          "name": "stdout",
          "text": [
            "{'Roy', 'Sherina', 'Collins', 'Makai', 'Gerald', 'Conrad'}\n"
          ]
        }
      ]
    },
    {
      "cell_type": "code",
      "source": [
        "#Set of Student names\n",
        "students.add('Sherina')\n",
        "print(students)\n",
        "#Sets don't accept duplicates despite two tries here. Noted!"
      ],
      "metadata": {
        "colab": {
          "base_uri": "https://localhost:8080/"
        },
        "id": "SD8Hq9h9ITuu",
        "outputId": "d12ce407-d224-4a8c-d50d-362aaf66bb82"
      },
      "execution_count": 8,
      "outputs": [
        {
          "output_type": "stream",
          "name": "stdout",
          "text": [
            "{'Roy', 'Sherina', 'Collins', 'Makai', 'Gerald', 'Conrad'}\n"
          ]
        }
      ]
    },
    {
      "cell_type": "code",
      "source": [
        "#Dictionary\n",
        "person = {'name': 'makai', 'age': 27, 'email': 'conradj@gmail.com'}\n",
        "person['email'] = 'makai@gmail.com'\n",
        "print(person)\n",
        "\n",
        "#I see that here i just look for the key (email) and add a new value to it\n",
        "#This updates the email section"
      ],
      "metadata": {
        "colab": {
          "base_uri": "https://localhost:8080/"
        },
        "id": "p3Kj-7V6IlHb",
        "outputId": "f8a36ec0-a6cb-45cd-8e52-d271f8ca1ea2"
      },
      "execution_count": 11,
      "outputs": [
        {
          "output_type": "stream",
          "name": "stdout",
          "text": [
            "{'name': 'makai', 'age': 27, 'email': 'makai@gmail.com'}\n"
          ]
        }
      ]
    },
    {
      "cell_type": "code",
      "source": [],
      "metadata": {
        "id": "ly1KubGCO8xs"
      },
      "execution_count": null,
      "outputs": []
    },
    {
      "cell_type": "code",
      "source": [
        "numbers = [1, 2, 3, 4, 5, 6, 7, 8, 9, 10, 11, 12, 13, 14, 15, 16, 17, 19, 20]\n",
        "for i in numbers:\n",
        "    if i % 2 == 0:\n",
        "        print(\"i is even\")\n",
        "    else:\n",
        "        print(\"i is odd\")\n",
        "\n",
        "#Took me a while to figure out how to say a number when even gives no remainder\n",
        "#When divided by two. I will do more operations on this\n",
        "#that's when i got the modulo operator %, learnt how it works\n",
        "#the statement there meant if a number is divided by 2, it gives zero as remainder\n",
        "#Hence we print the number \"i\" as even or else it will be odd"
      ],
      "metadata": {
        "colab": {
          "base_uri": "https://localhost:8080/"
        },
        "id": "wqCcQSlPKUv3",
        "outputId": "0dd475e6-de0c-48f3-e93f-b8e9d12a219e"
      },
      "execution_count": 16,
      "outputs": [
        {
          "output_type": "stream",
          "name": "stdout",
          "text": [
            "i is odd\n",
            "i is even\n",
            "i is odd\n",
            "i is even\n",
            "i is odd\n",
            "i is even\n",
            "i is odd\n",
            "i is even\n",
            "i is odd\n",
            "i is even\n",
            "i is odd\n",
            "i is even\n",
            "i is odd\n",
            "i is even\n",
            "i is odd\n",
            "i is even\n",
            "i is odd\n",
            "i is odd\n",
            "i is even\n"
          ]
        }
      ]
    },
    {
      "cell_type": "code",
      "source": [
        "person = {'name': 'makai', 'age': 27, 'email': 'conradj@gmail.com'}\n",
        "for key, value in person.items():\n",
        "    print(key, \"→\", value)\n",
        "\n",
        "#Whereas I followed the steps and some other lessons online\n",
        "#The word iterate here gives me trouble\n",
        "#I understand it may mean visit one row one ar a time\n",
        "#But i have never clearly understood the code here and how to use a loop to iterate"
      ],
      "metadata": {
        "colab": {
          "base_uri": "https://localhost:8080/"
        },
        "id": "IzTxMAeFPEpB",
        "outputId": "48d65efe-1ed1-4b70-8884-9f1b9c9ab4b3"
      },
      "execution_count": 18,
      "outputs": [
        {
          "output_type": "stream",
          "name": "stdout",
          "text": [
            "name → makai\n",
            "age → 27\n",
            "email → conradj@gmail.com\n"
          ]
        }
      ]
    },
    {
      "cell_type": "code",
      "source": [
        "marks = 63\n",
        "if marks >= 80:\n",
        "  print('A')\n",
        "elif marks >= 70:\n",
        "  print('B')\n",
        "elif marks >= 60:\n",
        "  print('C')\n",
        "elif marks >= 50:\n",
        "  print('D')\n",
        "else:\n",
        "  print('F')"
      ],
      "metadata": {
        "colab": {
          "base_uri": "https://localhost:8080/"
        },
        "id": "QLjCe3ulQZMt",
        "outputId": "2c504bac-e2ed-48d1-c6c1-4e8ee8d3b5b7"
      },
      "execution_count": 21,
      "outputs": [
        {
          "output_type": "stream",
          "name": "stdout",
          "text": [
            "C\n"
          ]
        }
      ]
    },
    {
      "cell_type": "code",
      "source": [
        "#Functions\n",
        "def calculate_mean(age):\n",
        "  z = sum(age)\n",
        "  y = len(age)\n",
        "  return[z/y for x in age]\n",
        "\n",
        "age = [79, 82, 45, 34, 54, 30, 40]\n",
        "calculate_mean = calculate_mean(age)\n",
        "print(calculate_mean)\n",
        "\n"
      ],
      "metadata": {
        "colab": {
          "base_uri": "https://localhost:8080/"
        },
        "id": "jnQAQ1b_SKpD",
        "outputId": "029e9b0a-437b-4ab2-c693-b7973ae1694f"
      },
      "execution_count": 23,
      "outputs": [
        {
          "output_type": "stream",
          "name": "stdout",
          "text": [
            "[52.0, 52.0, 52.0, 52.0, 52.0, 52.0, 52.0]\n"
          ]
        }
      ]
    },
    {
      "cell_type": "code",
      "source": [
        "#Error handling\n",
        "\n",
        "\n",
        "try:\n",
        "    num1 = float(input(\"first number: \"))\n",
        "    num2 = float(input(\"second number: \"))\n",
        "    result = num1 / num2\n",
        "\n",
        "except ZeroDivisionError as Impossible:\n",
        "    print('Invalid input', Impossible)\n",
        "\n",
        "except ValueError as e:\n",
        "    print(\"Invalid input\", e )\n",
        "\n",
        "finally:\n",
        "    print(\"Division operation complete.\")\n"
      ],
      "metadata": {
        "colab": {
          "base_uri": "https://localhost:8080/"
        },
        "id": "AjfMMnqLbc3P",
        "outputId": "4302571e-3b59-4d88-d20b-c80e1b6a1a54"
      },
      "execution_count": 10,
      "outputs": [
        {
          "output_type": "stream",
          "name": "stdout",
          "text": [
            "first number: 45\n",
            "second number: 0\n",
            "Invalid input float division by zero\n",
            "ℹ️  Division operation complete.\n"
          ]
        }
      ]
    },
    {
      "cell_type": "code",
      "source": [
        "#Found issues with creating a module in Google collab notebook"
      ],
      "metadata": {
        "id": "7ehs-8cxjwm8"
      },
      "execution_count": null,
      "outputs": []
    }
  ]
}